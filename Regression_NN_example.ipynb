{
 "cells": [
  {
   "cell_type": "markdown",
   "metadata": {},
   "source": [
    "# Regression Neural Network"
   ]
  },
  {
   "cell_type": "markdown",
   "metadata": {},
   "source": [
    "Una red neuronal simple tiene la siguiente estructura:\n",
    "\n",
    "![Simple NN](NN.png)\n",
    "\n",
    "Donde cada nodo representa una neurona y se realizan dos operaciones, una es calcular el producto punto entre los inputs (a la respectiva layer) y los pesos: $z11 = w1*x1 + ... + wn*xn + b11$ y seguido por el calculo de la activacion a11 = f(z11), donde f puede ser sigmoid, relu etc. \n",
    "El primer indice es la layer y el segundo el nodo. "
   ]
  },
  {
   "cell_type": "markdown",
   "metadata": {},
   "source": [
    "## Implementacion usando keras"
   ]
  },
  {
   "cell_type": "markdown",
   "metadata": {},
   "source": [
    "El siguiente es un ejemplo de como se implementa una NN simple usando una base de datos de ejemplo."
   ]
  },
  {
   "cell_type": "markdown",
   "metadata": {},
   "source": [
    "### packages"
   ]
  },
  {
   "cell_type": "code",
   "execution_count": 1,
   "metadata": {
    "collapsed": false
   },
   "outputs": [
    {
     "ename": "ModuleNotFoundError",
     "evalue": "No module named 'keras'",
     "output_type": "error",
     "traceback": [
      "\u001b[0;31m---------------------------------------------------------------------------\u001b[0m",
      "\u001b[0;31mModuleNotFoundError\u001b[0m                       Traceback (most recent call last)",
      "\u001b[0;32m<ipython-input-1-d1f6838e49f0>\u001b[0m in \u001b[0;36m<module>\u001b[0;34m()\u001b[0m\n\u001b[1;32m      2\u001b[0m \u001b[1;32mimport\u001b[0m \u001b[0mnumpy\u001b[0m \u001b[1;32mas\u001b[0m \u001b[0mnp\u001b[0m\u001b[1;33m\u001b[0m\u001b[0m\n\u001b[1;32m      3\u001b[0m \u001b[1;32mimport\u001b[0m \u001b[0mos\u001b[0m\u001b[1;33m\u001b[0m\u001b[0m\n\u001b[0;32m----> 4\u001b[0;31m \u001b[1;32mimport\u001b[0m \u001b[0mkeras\u001b[0m\u001b[1;33m\u001b[0m\u001b[0m\n\u001b[0m\u001b[1;32m      5\u001b[0m \u001b[1;32mfrom\u001b[0m \u001b[0mkeras\u001b[0m\u001b[1;33m.\u001b[0m\u001b[0mmodels\u001b[0m \u001b[1;32mimport\u001b[0m \u001b[0mSequential\u001b[0m\u001b[1;33m\u001b[0m\u001b[0m\n\u001b[1;32m      6\u001b[0m \u001b[1;32mfrom\u001b[0m \u001b[0mkeras\u001b[0m\u001b[1;33m.\u001b[0m\u001b[0mlayers\u001b[0m \u001b[1;32mimport\u001b[0m \u001b[0mDense\u001b[0m\u001b[1;33m\u001b[0m\u001b[0m\n",
      "\u001b[0;31mModuleNotFoundError\u001b[0m: No module named 'keras'"
     ]
    }
   ],
   "source": [
    "import pandas as pd\n",
    "import numpy as np\n",
    "import os\n",
    "import keras\n",
    "from keras.models import Sequential\n",
    "from keras.layers import Dense\n",
    "from keras.models import load_model"
   ]
  },
  {
   "cell_type": "code",
   "execution_count": 20,
   "metadata": {
    "collapsed": false
   },
   "outputs": [
    {
     "data": {
      "text/plain": [
       "'2.1.5'"
      ]
     },
     "execution_count": 20,
     "metadata": {},
     "output_type": "execute_result"
    }
   ],
   "source": [
    "import keras as kr\n",
    "kr.__version__"
   ]
  },
  {
   "cell_type": "markdown",
   "metadata": {},
   "source": [
    "### load data\n",
    "La data que se usa para el ejemplo fue bajada del curso de Coursera.\n",
    "En mi caso guardo la tabla en una variable llamada df. Se puede bajar de internet (si funciona) o desde mi sistema (solo funciona en la compu actual). Descomentar una de las opciones."
   ]
  },
  {
   "cell_type": "code",
   "execution_count": 25,
   "metadata": {
    "collapsed": false
   },
   "outputs": [
    {
     "data": {
      "text/html": [
       "<div>\n",
       "<table border=\"1\" class=\"dataframe\">\n",
       "  <thead>\n",
       "    <tr style=\"text-align: right;\">\n",
       "      <th></th>\n",
       "      <th>Cement</th>\n",
       "      <th>Blast Furnace Slag</th>\n",
       "      <th>Fly Ash</th>\n",
       "      <th>Water</th>\n",
       "      <th>Superplasticizer</th>\n",
       "      <th>Coarse Aggregate</th>\n",
       "      <th>Fine Aggregate</th>\n",
       "      <th>Age</th>\n",
       "      <th>Strength</th>\n",
       "    </tr>\n",
       "  </thead>\n",
       "  <tbody>\n",
       "    <tr>\n",
       "      <th>0</th>\n",
       "      <td>540.0</td>\n",
       "      <td>0.0</td>\n",
       "      <td>0.0</td>\n",
       "      <td>162.0</td>\n",
       "      <td>2.5</td>\n",
       "      <td>1040.0</td>\n",
       "      <td>676.0</td>\n",
       "      <td>28</td>\n",
       "      <td>79.99</td>\n",
       "    </tr>\n",
       "    <tr>\n",
       "      <th>1</th>\n",
       "      <td>540.0</td>\n",
       "      <td>0.0</td>\n",
       "      <td>0.0</td>\n",
       "      <td>162.0</td>\n",
       "      <td>2.5</td>\n",
       "      <td>1055.0</td>\n",
       "      <td>676.0</td>\n",
       "      <td>28</td>\n",
       "      <td>61.89</td>\n",
       "    </tr>\n",
       "    <tr>\n",
       "      <th>2</th>\n",
       "      <td>332.5</td>\n",
       "      <td>142.5</td>\n",
       "      <td>0.0</td>\n",
       "      <td>228.0</td>\n",
       "      <td>0.0</td>\n",
       "      <td>932.0</td>\n",
       "      <td>594.0</td>\n",
       "      <td>270</td>\n",
       "      <td>40.27</td>\n",
       "    </tr>\n",
       "    <tr>\n",
       "      <th>3</th>\n",
       "      <td>332.5</td>\n",
       "      <td>142.5</td>\n",
       "      <td>0.0</td>\n",
       "      <td>228.0</td>\n",
       "      <td>0.0</td>\n",
       "      <td>932.0</td>\n",
       "      <td>594.0</td>\n",
       "      <td>365</td>\n",
       "      <td>41.05</td>\n",
       "    </tr>\n",
       "    <tr>\n",
       "      <th>4</th>\n",
       "      <td>198.6</td>\n",
       "      <td>132.4</td>\n",
       "      <td>0.0</td>\n",
       "      <td>192.0</td>\n",
       "      <td>0.0</td>\n",
       "      <td>978.4</td>\n",
       "      <td>825.5</td>\n",
       "      <td>360</td>\n",
       "      <td>44.30</td>\n",
       "    </tr>\n",
       "  </tbody>\n",
       "</table>\n",
       "</div>"
      ],
      "text/plain": [
       "   Cement  Blast Furnace Slag  Fly Ash  Water  Superplasticizer  \\\n",
       "0   540.0                 0.0      0.0  162.0               2.5   \n",
       "1   540.0                 0.0      0.0  162.0               2.5   \n",
       "2   332.5               142.5      0.0  228.0               0.0   \n",
       "3   332.5               142.5      0.0  228.0               0.0   \n",
       "4   198.6               132.4      0.0  192.0               0.0   \n",
       "\n",
       "   Coarse Aggregate  Fine Aggregate  Age  Strength  \n",
       "0            1040.0           676.0   28     79.99  \n",
       "1            1055.0           676.0   28     61.89  \n",
       "2             932.0           594.0  270     40.27  \n",
       "3             932.0           594.0  365     41.05  \n",
       "4             978.4           825.5  360     44.30  "
      ]
     },
     "execution_count": 25,
     "metadata": {},
     "output_type": "execute_result"
    }
   ],
   "source": [
    "#df = pd.read_csv('https://s3-api.us-geo.objectstorage.softlayer.net/cf-courses-data/CognitiveClass/DL0101EN/labs/data/concrete_data.csv')\n",
    "os.chdir(r\"C:\\Users\\ng7d6b2\\Documents\\Otros\\NN_Compos\\scripts\\keras_examples\\regression_NN\")\n",
    "df = pd.read_csv(\"concrete_data.csv\")\n",
    "df.head()"
   ]
  },
  {
   "cell_type": "markdown",
   "metadata": {},
   "source": [
    "### split\n",
    "Los datos se separan en dos df diferentes, predictors y targets (inputs y outputs) "
   ]
  },
  {
   "cell_type": "code",
   "execution_count": 28,
   "metadata": {
    "collapsed": false
   },
   "outputs": [],
   "source": [
    "df_columns = df.columns\n",
    "predictors = df[df_columns[df_columns != 'Strength']] \n",
    "target = df['Strength'] "
   ]
  },
  {
   "cell_type": "markdown",
   "metadata": {},
   "source": [
    "Es aconsejable normalizar los datos, en este caso se normaliza utilizando la media y std de los datos existentes"
   ]
  },
  {
   "cell_type": "code",
   "execution_count": 29,
   "metadata": {
    "collapsed": true
   },
   "outputs": [],
   "source": [
    "predictors_norm = (predictors - predictors.mean()) / predictors.std()"
   ]
  },
  {
   "cell_type": "markdown",
   "metadata": {},
   "source": [
    "### build NN\n",
    "La NN se construye espeficicando la arquitectura de cada layer, numero de nodos (neuronas), tipo de activacion y  si es densa o no. Aparte de la estrategia de optimizacion y como medir el error.\n",
    "Ejemplo de:\n",
    "- 1er layer: hidden layer con 50 neuronas, usando relu y numero de predictors \n",
    "- 2da layer: hidden layer con 50 neuronas, usando relu\n",
    "- output layer: solo un output\n",
    "- optimiser: adam (mejor que gradiente)\n",
    "- loss: mean_squared_error como medida del error\n",
    "\n",
    "se modifica como sea necesario:"
   ]
  },
  {
   "cell_type": "code",
   "execution_count": 30,
   "metadata": {
    "collapsed": true
   },
   "outputs": [],
   "source": [
    "n_cols = predictors_norm.shape[1]\n",
    "model = Sequential()\n",
    "model.add(Dense(50, activation='relu', input_shape=(n_cols,)))\n",
    "model.add(Dense(50, activation='relu'))\n",
    "model.add(Dense(1))\n",
    "model.compile(optimizer='adam', loss='mean_squared_error')"
   ]
  },
  {
   "cell_type": "markdown",
   "metadata": {},
   "source": [
    "### fit (train and test)"
   ]
  },
  {
   "cell_type": "markdown",
   "metadata": {},
   "source": [
    "El modelo tiene que entrenarse y validarse. Se escoge los inputs y outputs para este fin y se escoge que porcentage de los datos se usara en preddicion y validacion (30% en este caso). Se escoge los epochs (numero de iteraciones para la convergencia)"
   ]
  },
  {
   "cell_type": "code",
   "execution_count": 31,
   "metadata": {
    "collapsed": false
   },
   "outputs": [
    {
     "name": "stdout",
     "output_type": "stream",
     "text": [
      "Train on 721 samples, validate on 309 samples\n",
      "Epoch 1/100\n",
      " - 0s - loss: 1670.1454 - val_loss: 1176.0135\n",
      "Epoch 2/100\n",
      " - 0s - loss: 1555.8882 - val_loss: 1073.6855\n",
      "Epoch 3/100\n",
      " - 0s - loss: 1383.2668 - val_loss: 915.0906\n",
      "Epoch 4/100\n",
      " - 0s - loss: 1109.4794 - val_loss: 697.9443\n",
      "Epoch 5/100\n",
      " - 0s - loss: 759.9688 - val_loss: 461.2088\n",
      "Epoch 6/100\n",
      " - 0s - loss: 442.9929 - val_loss: 278.9956\n",
      "Epoch 7/100\n",
      " - 0s - loss: 269.0485 - val_loss: 195.8125\n",
      "Epoch 8/100\n",
      " - 0s - loss: 222.6820 - val_loss: 174.9443\n",
      "Epoch 9/100\n",
      " - 0s - loss: 208.9540 - val_loss: 169.3138\n",
      "Epoch 10/100\n",
      " - 0s - loss: 199.3586 - val_loss: 167.1051\n",
      "Epoch 11/100\n",
      " - 0s - loss: 191.9435 - val_loss: 163.0724\n",
      "Epoch 12/100\n",
      " - 0s - loss: 185.6554 - val_loss: 160.4505\n",
      "Epoch 13/100\n",
      " - 0s - loss: 180.5343 - val_loss: 160.8201\n",
      "Epoch 14/100\n",
      " - 0s - loss: 175.7008 - val_loss: 157.8241\n",
      "Epoch 15/100\n",
      " - 0s - loss: 171.6560 - val_loss: 155.3396\n",
      "Epoch 16/100\n",
      " - 0s - loss: 168.2239 - val_loss: 155.2662\n",
      "Epoch 17/100\n",
      " - 0s - loss: 164.8050 - val_loss: 154.2286\n",
      "Epoch 18/100\n",
      " - 0s - loss: 162.2034 - val_loss: 153.1904\n",
      "Epoch 19/100\n",
      " - 0s - loss: 159.4644 - val_loss: 152.4509\n",
      "Epoch 20/100\n",
      " - 0s - loss: 156.7251 - val_loss: 151.8828\n",
      "Epoch 21/100\n",
      " - 0s - loss: 154.4888 - val_loss: 150.8328\n",
      "Epoch 22/100\n",
      " - 0s - loss: 152.8168 - val_loss: 149.2985\n",
      "Epoch 23/100\n",
      " - 0s - loss: 150.8724 - val_loss: 151.3039\n",
      "Epoch 24/100\n",
      " - 0s - loss: 148.9944 - val_loss: 149.8739\n",
      "Epoch 25/100\n",
      " - 0s - loss: 147.1145 - val_loss: 148.1997\n",
      "Epoch 26/100\n",
      " - 0s - loss: 145.8669 - val_loss: 150.5132\n",
      "Epoch 27/100\n",
      " - 0s - loss: 143.8289 - val_loss: 150.0332\n",
      "Epoch 28/100\n",
      " - 0s - loss: 142.6775 - val_loss: 149.4338\n",
      "Epoch 29/100\n",
      " - 0s - loss: 141.2720 - val_loss: 151.0738\n",
      "Epoch 30/100\n",
      " - 0s - loss: 139.9735 - val_loss: 148.7886\n",
      "Epoch 31/100\n",
      " - 0s - loss: 138.5749 - val_loss: 149.6394\n",
      "Epoch 32/100\n",
      " - 0s - loss: 137.4799 - val_loss: 149.8397\n",
      "Epoch 33/100\n",
      " - 0s - loss: 135.7940 - val_loss: 148.4527\n",
      "Epoch 34/100\n",
      " - 0s - loss: 134.9467 - val_loss: 150.9240\n",
      "Epoch 35/100\n",
      " - 0s - loss: 132.8911 - val_loss: 148.6176\n",
      "Epoch 36/100\n",
      " - 0s - loss: 132.1567 - val_loss: 147.5184\n",
      "Epoch 37/100\n",
      " - 0s - loss: 130.4283 - val_loss: 147.8564\n",
      "Epoch 38/100\n",
      " - 0s - loss: 129.3303 - val_loss: 147.2888\n",
      "Epoch 39/100\n",
      " - 0s - loss: 127.8884 - val_loss: 146.2128\n",
      "Epoch 40/100\n",
      " - 0s - loss: 126.4926 - val_loss: 146.7507\n",
      "Epoch 41/100\n",
      " - 0s - loss: 125.0826 - val_loss: 143.4023\n",
      "Epoch 42/100\n",
      " - 0s - loss: 123.6647 - val_loss: 145.9893\n",
      "Epoch 43/100\n",
      " - 0s - loss: 122.0496 - val_loss: 144.5531\n",
      "Epoch 44/100\n",
      " - 0s - loss: 120.5476 - val_loss: 143.9957\n",
      "Epoch 45/100\n",
      " - 0s - loss: 119.2963 - val_loss: 142.5680\n",
      "Epoch 46/100\n",
      " - 0s - loss: 117.4091 - val_loss: 140.7616\n",
      "Epoch 47/100\n",
      " - 0s - loss: 116.1994 - val_loss: 139.8687\n",
      "Epoch 48/100\n",
      " - 0s - loss: 114.2863 - val_loss: 138.9564\n",
      "Epoch 49/100\n",
      " - 0s - loss: 112.6064 - val_loss: 137.5353\n",
      "Epoch 50/100\n",
      " - 0s - loss: 111.1663 - val_loss: 140.0397\n",
      "Epoch 51/100\n",
      " - 0s - loss: 109.3276 - val_loss: 139.8694\n",
      "Epoch 52/100\n",
      " - 0s - loss: 107.7342 - val_loss: 136.2494\n",
      "Epoch 53/100\n",
      " - 0s - loss: 105.1748 - val_loss: 134.4678\n",
      "Epoch 54/100\n",
      " - 0s - loss: 103.5973 - val_loss: 135.6513\n",
      "Epoch 55/100\n",
      " - 0s - loss: 101.8308 - val_loss: 133.7072\n",
      "Epoch 56/100\n",
      " - 0s - loss: 100.1703 - val_loss: 132.9394\n",
      "Epoch 57/100\n",
      " - 0s - loss: 97.4103 - val_loss: 131.3464\n",
      "Epoch 58/100\n",
      " - 0s - loss: 94.9633 - val_loss: 127.9402\n",
      "Epoch 59/100\n",
      " - 0s - loss: 92.6525 - val_loss: 130.5296\n",
      "Epoch 60/100\n",
      " - 0s - loss: 90.1244 - val_loss: 124.5563\n",
      "Epoch 61/100\n",
      " - 0s - loss: 87.1881 - val_loss: 127.5899\n",
      "Epoch 62/100\n",
      " - 0s - loss: 85.0609 - val_loss: 123.9772\n",
      "Epoch 63/100\n",
      " - 0s - loss: 82.6237 - val_loss: 124.1702\n",
      "Epoch 64/100\n",
      " - 0s - loss: 79.9806 - val_loss: 123.3344\n",
      "Epoch 65/100\n",
      " - 0s - loss: 77.9317 - val_loss: 119.7458\n",
      "Epoch 66/100\n",
      " - 0s - loss: 74.8356 - val_loss: 118.6882\n",
      "Epoch 67/100\n",
      " - 0s - loss: 72.4747 - val_loss: 121.5666\n",
      "Epoch 68/100\n",
      " - 0s - loss: 69.9811 - val_loss: 119.0655\n",
      "Epoch 69/100\n",
      " - 0s - loss: 68.2843 - val_loss: 114.8344\n",
      "Epoch 70/100\n",
      " - 0s - loss: 65.5163 - val_loss: 116.3576\n",
      "Epoch 71/100\n",
      " - 0s - loss: 63.0022 - val_loss: 112.4648\n",
      "Epoch 72/100\n",
      " - 0s - loss: 61.0267 - val_loss: 116.7100\n",
      "Epoch 73/100\n",
      " - 0s - loss: 59.2683 - val_loss: 109.6603\n",
      "Epoch 74/100\n",
      " - 0s - loss: 57.4498 - val_loss: 113.5482\n",
      "Epoch 75/100\n",
      " - 0s - loss: 56.3894 - val_loss: 120.8818\n",
      "Epoch 76/100\n",
      " - 0s - loss: 54.8731 - val_loss: 115.1570\n",
      "Epoch 77/100\n",
      " - 0s - loss: 52.9999 - val_loss: 108.6463\n",
      "Epoch 78/100\n",
      " - 0s - loss: 51.4415 - val_loss: 120.5684\n",
      "Epoch 79/100\n",
      " - 0s - loss: 50.2834 - val_loss: 109.4911\n",
      "Epoch 80/100\n",
      " - 0s - loss: 48.7544 - val_loss: 117.0561\n",
      "Epoch 81/100\n",
      " - 0s - loss: 47.7747 - val_loss: 114.9273\n",
      "Epoch 82/100\n",
      " - 0s - loss: 46.7735 - val_loss: 114.9316\n",
      "Epoch 83/100\n",
      " - 0s - loss: 45.4267 - val_loss: 122.4765\n",
      "Epoch 84/100\n",
      " - 0s - loss: 44.7023 - val_loss: 115.2547\n",
      "Epoch 85/100\n",
      " - 0s - loss: 42.9026 - val_loss: 114.0486\n",
      "Epoch 86/100\n",
      " - 0s - loss: 43.2881 - val_loss: 124.1115\n",
      "Epoch 87/100\n",
      " - 0s - loss: 42.0141 - val_loss: 115.2595\n",
      "Epoch 88/100\n",
      " - 0s - loss: 40.8602 - val_loss: 122.0121\n",
      "Epoch 89/100\n",
      " - 0s - loss: 40.2694 - val_loss: 114.7774\n",
      "Epoch 90/100\n",
      " - 0s - loss: 39.5791 - val_loss: 119.3745\n",
      "Epoch 91/100\n",
      " - 0s - loss: 39.0902 - val_loss: 117.4198\n",
      "Epoch 92/100\n",
      " - 0s - loss: 38.2349 - val_loss: 123.6803\n",
      "Epoch 93/100\n",
      " - 0s - loss: 37.8693 - val_loss: 122.5280\n",
      "Epoch 94/100\n",
      " - 0s - loss: 37.3148 - val_loss: 120.2972\n",
      "Epoch 95/100\n",
      " - 0s - loss: 36.9051 - val_loss: 120.2787\n",
      "Epoch 96/100\n",
      " - 0s - loss: 36.2651 - val_loss: 119.8193\n",
      "Epoch 97/100\n",
      " - 0s - loss: 35.7806 - val_loss: 123.2656\n",
      "Epoch 98/100\n",
      " - 0s - loss: 36.0602 - val_loss: 111.4323\n",
      "Epoch 99/100\n",
      " - 0s - loss: 35.5517 - val_loss: 118.8471\n",
      "Epoch 100/100\n",
      " - 0s - loss: 34.7045 - val_loss: 122.8069\n"
     ]
    },
    {
     "data": {
      "text/plain": [
       "<keras.callbacks.History at 0x15b4ee6d438>"
      ]
     },
     "execution_count": 31,
     "metadata": {},
     "output_type": "execute_result"
    }
   ],
   "source": [
    "model.fit(predictors_norm, target, validation_split=0.3, epochs=100, verbose=2)"
   ]
  },
  {
   "cell_type": "markdown",
   "metadata": {},
   "source": [
    "Si el modelo tarda much en entrenarse este se puede guardar para futuro uso. Para guardarlo y abrirlo usar:"
   ]
  },
  {
   "cell_type": "code",
   "execution_count": 32,
   "metadata": {
    "collapsed": true
   },
   "outputs": [],
   "source": [
    "model.save('regTest_model.h5')\n",
    "pretrain_model = load_model('regTest_model.h5')"
   ]
  },
  {
   "cell_type": "markdown",
   "metadata": {},
   "source": [
    "### predicciones"
   ]
  },
  {
   "cell_type": "markdown",
   "metadata": {},
   "source": [
    "Se puede usar el modelo para predecir cosas, en este caso uso un ejemplo donde \"predigo\" los primeros 5 datos de la base de datos usados para entrenar"
   ]
  },
  {
   "cell_type": "code",
   "execution_count": 33,
   "metadata": {
    "collapsed": false
   },
   "outputs": [
    {
     "data": {
      "text/plain": [
       "array([[ 68.94968414],\n",
       "       [ 68.84531403],\n",
       "       [ 45.17293549],\n",
       "       [ 48.21352768],\n",
       "       [ 41.78632736]], dtype=float32)"
      ]
     },
     "execution_count": 33,
     "metadata": {},
     "output_type": "execute_result"
    }
   ],
   "source": [
    "test_data = predictors_norm.head()\n",
    "pred = model.predict(test_data)\n",
    "pred"
   ]
  },
  {
   "cell_type": "markdown",
   "metadata": {},
   "source": [
    "<br>\n",
    "<br>\n",
    "<br>\n",
    "<br>\n",
    "<br>\n",
    "<br>\n",
    "<br>\n",
    "<br>\n",
    "<br>\n",
    "<br>\n",
    "<br>\n",
    "<br>\n",
    "<br>\n",
    "<br>\n",
    "<br>\n",
    "<br>\n",
    "<br>\n",
    "<br>\n",
    "<br>\n",
    "<br>\n",
    "<br>\n",
    "<br>\n",
    "<br>\n",
    "<br>\n",
    "<br>\n",
    "<br>\n",
    "<br>\n",
    "<br>\n",
    "<br>\n",
    "<br>\n",
    "<br>\n",
    "<br>\n",
    "<br>\n",
    "<br>\n",
    "<br>\n",
    "<br>"
   ]
  }
 ],
 "metadata": {
  "kernelspec": {
   "display_name": "Python 3",
   "language": "python",
   "name": "python3"
  },
  "language_info": {
   "codemirror_mode": {
    "name": "ipython",
    "version": 3
   },
   "file_extension": ".py",
   "mimetype": "text/x-python",
   "name": "python",
   "nbconvert_exporter": "python",
   "pygments_lexer": "ipython3",
   "version": "3.6.0"
  }
 },
 "nbformat": 4,
 "nbformat_minor": 2
}
